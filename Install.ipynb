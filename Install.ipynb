{
 "cells": [
  {
   "cell_type": "markdown",
   "metadata": {},
   "source": [
    "# Install Python"
   ]
  },
  {
   "cell_type": "markdown",
   "metadata": {},
   "source": [
    "This script will download and install a minimal version of the Anaconda Python distribution, and then PyMT and its many dependencies. If you already have an Anaconda distribution, you could just install PyMT there."
   ]
  },
  {
   "cell_type": "code",
   "execution_count": 1,
   "metadata": {},
   "outputs": [],
   "source": [
    "if [[ $(uname) == \"Darwin\" ]]; then\n",
    "  OS=\"MacOSX-x86_64\" # Mac\n",
    "else\n",
    "  OS=\"Linux-x86_64\" # Linux\n",
    "fi\n",
    "MINICONDA=Miniconda2-latest-$OS.sh\n",
    "INSTALL_DIR=$(pwd)\n",
    "PYTHON_DIR=$INSTALL_DIR/_conda"
   ]
  },
  {
   "cell_type": "code",
   "execution_count": 2,
   "metadata": {},
   "outputs": [
    {
     "name": "stdout",
     "output_type": "stream",
     "text": [
      "The rest of this script will do the following:\n",
      "\n",
      "* Download Miniconda2-latest-MacOSX-x86_64.sh to /Users/huttone/git/mcflugen/pymt-demo/miniconda.sh\n",
      "* Install Python in /Users/huttone/git/mcflugen/pymt-demo/_conda\n",
      "\n",
      "If this is OK, continue. If this is not OK, STOP HERE.\n"
     ]
    }
   ],
   "source": [
    "echo \"The rest of this script will do the following:\"\n",
    "echo\n",
    "echo \"* Download $MINICONDA to $INSTALL_DIR/miniconda.sh\"\n",
    "echo \"* Install Python in $PYTHON_DIR\"\n",
    "echo\n",
    "echo \"If this is OK, continue. If this is not OK, STOP HERE.\""
   ]
  },
  {
   "cell_type": "markdown",
   "metadata": {},
   "source": [
    "Get the miniconda installer from Continuum."
   ]
  },
  {
   "cell_type": "code",
   "execution_count": 3,
   "metadata": {},
   "outputs": [
    {
     "name": "stdout",
     "output_type": "stream",
     "text": [
      "  % Total    % Received % Xferd  Average Speed   Time    Time     Time  Current\n",
      "                                 Dload  Upload   Total   Spent    Left  Speed\n",
      "100 21.1M  100 21.1M    0     0  21.8M      0 --:--:-- --:--:-- --:--:-- 22.0M\n"
     ]
    }
   ],
   "source": [
    "curl https://repo.continuum.io/miniconda/$MINICONDA > miniconda.sh"
   ]
  },
  {
   "cell_type": "markdown",
   "metadata": {},
   "source": [
    "Install a minimal Python."
   ]
  },
  {
   "cell_type": "code",
   "execution_count": 4,
   "metadata": {},
   "outputs": [
    {
     "name": "stdout",
     "output_type": "stream",
     "text": [
      "PREFIX=/Users/huttone/git/mcflugen/pymt-demo/_conda\n",
      "./miniconda.sh: line 233: md5: command not found\n",
      "WARNING: md5sum mismatch of tar archive\n",
      "expected: d03d6bc2fcd7fade8da5ce9bc822b0ab\n",
      "     got: \n",
      "installing: python-2.7.13-0 ...\n",
      "installing: cffi-1.9.1-py27_0 ...\n",
      "installing: conda-env-2.6.0-0 ...\n",
      "installing: cryptography-1.7.1-py27_0 ...\n",
      "installing: enum34-1.1.6-py27_0 ...\n",
      "installing: idna-2.2-py27_0 ...\n",
      "installing: ipaddress-1.0.18-py27_0 ...\n",
      "installing: openssl-1.0.2k-1 ...\n",
      "installing: pyasn1-0.1.9-py27_0 ...\n",
      "installing: pycosat-0.6.1-py27_1 ...\n",
      "installing: pycparser-2.17-py27_0 ...\n",
      "installing: pyopenssl-16.2.0-py27_0 ...\n",
      "installing: readline-6.2-2 ...\n",
      "installing: requests-2.12.4-py27_0 ...\n",
      "installing: ruamel_yaml-0.11.14-py27_1 ...\n",
      "installing: setuptools-27.2.0-py27_0 ...\n",
      "installing: six-1.10.0-py27_0 ...\n",
      "installing: sqlite-3.13.0-0 ...\n",
      "installing: tk-8.5.18-0 ...\n",
      "installing: yaml-0.1.6-0 ...\n",
      "installing: zlib-1.2.8-3 ...\n",
      "installing: conda-4.3.14-py27_0 ...\n",
      "installing: pip-9.0.1-py27_1 ...\n",
      "installing: wheel-0.29.0-py27_0 ...\n",
      "mkdir: /Users/huttone/git/mcflugen/pymt-demo/_conda/envs: File exists\n",
      "Python 2.7.13 :: Continuum Analytics, Inc.\n",
      "creating default environment...\n",
      "using -f (force) option\n",
      "WARNING: unlinking: /Users/huttone/git/mcflugen/pymt-demo/_conda/conda-meta/conda-4.3.21-py27_0.json\n",
      "installation finished.\n"
     ]
    }
   ],
   "source": [
    "bash ./miniconda.sh -b -f -p $PYTHON_DIR"
   ]
  },
  {
   "cell_type": "markdown",
   "metadata": {},
   "source": [
    "Reset your `PATH` so that your shell will find the Python we just installed."
   ]
  },
  {
   "cell_type": "code",
   "execution_count": 5,
   "metadata": {
    "collapsed": true
   },
   "outputs": [],
   "source": [
    "export PATH=$PYTHON_DIR/bin:/usr/local/bin:/usr/bin:/bin:/usr/sbin:/etc:/usr/lib"
   ]
  },
  {
   "cell_type": "markdown",
   "metadata": {},
   "source": [
    "# Install PyMT and its requirements"
   ]
  },
  {
   "cell_type": "markdown",
   "metadata": {},
   "source": [
    "If you already have an Anaconda environment ready to put PyMT into, you can start here."
   ]
  },
  {
   "cell_type": "markdown",
   "metadata": {},
   "source": [
    "When we go to install PyMT with `conda`, we will want to look in some alternate places for packages."
   ]
  },
  {
   "cell_type": "code",
   "execution_count": 12,
   "metadata": {},
   "outputs": [
    {
     "name": "stdout",
     "output_type": "stream",
     "text": [
      "Warning: 'csdms-stack' already in 'channels' list, moving to the top\n",
      "Warning: 'conda-forge' already in 'channels' list, moving to the top\n"
     ]
    }
   ],
   "source": [
    "conda config --add channels csdms-stack --file=$PYTHON_DIR/.condarc\n",
    "conda config --add channels conda-forge --file=$PYTHON_DIR/.condarc"
   ]
  },
  {
   "cell_type": "markdown",
   "metadata": {},
   "source": [
    "Install the packages needed for this demo."
   ]
  },
  {
   "cell_type": "code",
   "execution_count": 7,
   "metadata": {},
   "outputs": [
    {
     "name": "stdout",
     "output_type": "stream",
     "text": [
      "Fetching package metadata .............\n",
      "Solving package specifications: .\n",
      "\n",
      "Package plan for installation in environment /Users/huttone/git/mcflugen/pymt-demo/_conda:\n",
      "\n",
      "The following packages will be UPDATED:\n",
      "\n",
      "    conda: 4.3.14-py27_0 defaults --> 4.3.21-py27_0 defaults\n",
      "\n",
      "conda-4.3.21-p 100% |################################| Time: 0:00:00   8.30 MB/s\n"
     ]
    }
   ],
   "source": [
    "conda install python=2.7 --file=requirements.txt"
   ]
  },
  {
   "cell_type": "code",
   "execution_count": null,
   "metadata": {
    "collapsed": true
   },
   "outputs": [],
   "source": []
  }
 ],
 "metadata": {
  "kernelspec": {
   "display_name": "Bash",
   "language": "bash",
   "name": "bash"
  },
  "language_info": {
   "codemirror_mode": "shell",
   "file_extension": ".sh",
   "mimetype": "text/x-sh",
   "name": "bash"
  }
 },
 "nbformat": 4,
 "nbformat_minor": 2
}
