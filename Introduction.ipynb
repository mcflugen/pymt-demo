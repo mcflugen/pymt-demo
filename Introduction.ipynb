{
 "cells": [
  {
   "cell_type": "markdown",
   "metadata": {},
   "source": [
    "# PyMT Beta: The Python Modeling Tool\n",
    "\n",
    "* Eric Hutton\n",
    "* Greg Tucker\n",
    "\n",
    "*CSDMS All-Hands Meeting, May 2017*"
   ]
  },
  {
   "cell_type": "markdown",
   "metadata": {},
   "source": [
    "## Things I wished I could have done in grad school...\n",
    "\n",
    "* Run model(s) in an ***interactive, command-line environment*** complete with plotting and data analysis abilities\n",
    "* Play with model(s) by ***running interactively***: advance forward, pause to plot output, inspect values, change parameters or state variables … all on the fly!\n",
    "* ***Easily couple models*** by running them iteratively and exchanging data\n",
    "* Learn to use models easily, because they have a ***standard basic interface***"
   ]
  },
  {
   "cell_type": "markdown",
   "metadata": {},
   "source": [
    "# CSDMS Basic Model Interface (BMI)\n",
    "\n",
    "* The BMI is a collection of standardized functions (a.k.a. subroutines) that you add to your model code.\n",
    "* They do a few basic things:\n",
    "  * ***initialize*** the model\n",
    "  * ***run*** the model for a given period of time or # of steps\n",
    "  * ***finalize*** (clean up) the model\n",
    "  * ***get value(s)*** of a variable or parameter\n",
    "  * ***set value(s)*** of a variable or parameter\n",
    "* BMI functions are defined for C, C++, Fortran, Python, and Java\n",
    "\n",
    "## To learn more\n",
    "\n",
    "* Peckham et al. (2013) Computers & Geosciences\n",
    "* http://bmi-spec.readthedocs.io\n"
   ]
  },
  {
   "cell_type": "markdown",
   "metadata": {},
   "source": [
    "# Oh the places you'll go\n",
    "\n",
    "Upon BMI graduation, things CSDMS adds to your model:\n",
    "* Thing 1: Write a recipe that builds your model\n",
    "* Thing 2: Build and deliver it to the Bakery\n",
    "* Thing 3: Build and test regularly\n",
    "* Thing 4: Babelize\n",
    "* Thing 5: Build and test regularly\n",
    "* Thing 6: ***PyMT component***"
   ]
  },
  {
   "cell_type": "markdown",
   "metadata": {},
   "source": [
    "# We’ll run through 3 examples...\n",
    "\n",
    "* Example 1: Running a generic BMI model in PyMT\n",
    "* Example 2: Running Child in PyMT\n",
    "* Example 3: Coupling Child and Sedflux3D in PyMT\n"
   ]
  },
  {
   "cell_type": "markdown",
   "metadata": {},
   "source": [
    "# Questions?\n",
    "\n",
    "You should now be able to:\n",
    "* Run any PyMT component model\n",
    "* Couple two PyMT components\n"
   ]
  },
  {
   "cell_type": "code",
   "execution_count": null,
   "metadata": {
    "collapsed": true
   },
   "outputs": [],
   "source": []
  }
 ],
 "metadata": {
  "kernelspec": {
   "display_name": "Python 2",
   "language": "python",
   "name": "python2"
  },
  "language_info": {
   "codemirror_mode": {
    "name": "ipython",
    "version": 2
   },
   "file_extension": ".py",
   "mimetype": "text/x-python",
   "name": "python",
   "nbconvert_exporter": "python",
   "pygments_lexer": "ipython2",
   "version": "2.7.13"
  }
 },
 "nbformat": 4,
 "nbformat_minor": 2
}
